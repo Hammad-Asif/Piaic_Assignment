{
  "nbformat": 4,
  "nbformat_minor": 0,
  "metadata": {
    "colab": {
      "name": "Piaic 1 assignment.ipynb",
      "provenance": []
    },
    "kernelspec": {
      "name": "python3",
      "display_name": "Python 3"
    }
  },
  "cells": [
    {
      "cell_type": "code",
      "metadata": {
        "id": "zL3T9Hm6pGbz"
      },
      "source": [
        "import numpy as np"
      ],
      "execution_count": 1,
      "outputs": []
    },
    {
      "cell_type": "code",
      "metadata": {
        "colab": {
          "base_uri": "https://localhost:8080/"
        },
        "id": "-xa3C2LdpOrw",
        "outputId": "e2e2a849-49e5-4fdf-9cda-6d2f9e52152c"
      },
      "source": [
        "a = np.array([1,2,3])\r\n",
        "b = np.array([(1.5,2,3), (4,5,6)], dtype = float)\r\n",
        "c = np.array([[(1.5,2,3), (4,5,6)], [(3,2,1), (4,5,6)]],dtype = float)\r\n",
        "print(a,b,c)\r\n"
      ],
      "execution_count": 5,
      "outputs": [
        {
          "output_type": "stream",
          "text": [
            "[1 2 3] [[1.5 2.  3. ]\n",
            " [4.  5.  6. ]] [[[1.5 2.  3. ]\n",
            "  [4.  5.  6. ]]\n",
            "\n",
            " [[3.  2.  1. ]\n",
            "  [4.  5.  6. ]]]\n"
          ],
          "name": "stdout"
        }
      ]
    },
    {
      "cell_type": "code",
      "metadata": {
        "colab": {
          "base_uri": "https://localhost:8080/"
        },
        "id": "yStwO69-rJFg",
        "outputId": "0d6d0626-fe81-4ce1-ec38-46353a67fc00"
      },
      "source": [
        "np.zeros((3,4)) #Create an array of zeros\r\n",
        "np.ones((2,3,4),dtype=np.int16) #Create an array of ones\r\n",
        "np.arange(10,25,5) #Create an array of evenly spaced values (step value)\r\n",
        "np.linspace(0,2,9) #Create an array of evenly spaced values (number of samples)\r\n",
        "e=np.full((2,2),7) #Create a constant array\r\n",
        "f=np.eye(2) #Create a 2X2 identity matrix\r\n",
        "np.random.random((2,2)) #Create an array with random values\r\n",
        "np.empty((3,2)) "
      ],
      "execution_count": 15,
      "outputs": [
        {
          "output_type": "execute_result",
          "data": {
            "text/plain": [
              "array([[1.39069238e-309, 1.39069238e-309],\n",
              "       [1.39069238e-309, 1.39069238e-309],\n",
              "       [1.39069238e-309, 1.39069238e-309]])"
            ]
          },
          "metadata": {
            "tags": []
          },
          "execution_count": 15
        }
      ]
    },
    {
      "cell_type": "code",
      "metadata": {
        "colab": {
          "base_uri": "https://localhost:8080/"
        },
        "id": "5QLBq_bJro56",
        "outputId": "f672c0b7-aac1-4952-e883-f4e41770645e"
      },
      "source": [
        "np.save('my_array', a)\r\n",
        "np.savez('array.npz', a, b)\r\n",
        "np.load('my_array.npy')"
      ],
      "execution_count": 7,
      "outputs": [
        {
          "output_type": "execute_result",
          "data": {
            "text/plain": [
              "array([1, 2, 3])"
            ]
          },
          "metadata": {
            "tags": []
          },
          "execution_count": 7
        }
      ]
    },
    {
      "cell_type": "code",
      "metadata": {
        "colab": {
          "base_uri": "https://localhost:8080/"
        },
        "id": "PhxCNitnr70S",
        "outputId": "e67ab905-9e25-4dbc-b0c8-7dbe14979ecb"
      },
      "source": [
        "np.loadtxt(\"myfile.txt\")\r\n",
        "np.genfromtxt(\"my_file.csv\", delimiter=',')\r\n",
        "np.savetxt(\"myarray.txt\", a, delimiter=\" \")\r\n"
      ],
      "execution_count": 9,
      "outputs": [
        {
          "output_type": "stream",
          "text": [
            "/usr/local/lib/python3.6/dist-packages/ipykernel_launcher.py:1: UserWarning: loadtxt: Empty input file: \"myfile.txt\"\n",
            "  \"\"\"Entry point for launching an IPython kernel.\n",
            "/usr/local/lib/python3.6/dist-packages/ipykernel_launcher.py:2: UserWarning: genfromtxt: Empty input file: \"my_file.csv\"\n",
            "  \n"
          ],
          "name": "stderr"
        }
      ]
    },
    {
      "cell_type": "code",
      "metadata": {
        "colab": {
          "base_uri": "https://localhost:8080/"
        },
        "id": "fKVeycxLsI9v",
        "outputId": "9614d75a-36ae-42d4-a514-f4316b4fc26a"
      },
      "source": [
        "np.int64 #Signed 64-bit integer types\r\n",
        "np.float32 #Standard double-precision floating point\r\n",
        "np.complex #Complex numbers represented by 128 floats\r\n",
        "np.bool #Boolean type storing TRUE and FALSE values\r\n",
        "np.object #Python object type\r\n",
        "np.string_ #Fixed-length string type\r\n",
        "np.unicode_ #Fixed-length unicode type"
      ],
      "execution_count": 10,
      "outputs": [
        {
          "output_type": "execute_result",
          "data": {
            "text/plain": [
              "numpy.str_"
            ]
          },
          "metadata": {
            "tags": []
          },
          "execution_count": 10
        }
      ]
    },
    {
      "cell_type": "code",
      "metadata": {
        "colab": {
          "base_uri": "https://localhost:8080/"
        },
        "id": "N3qRBOdjsccA",
        "outputId": "528f2522-9737-4b79-d2b5-e17f9db87e24"
      },
      "source": [
        "g = a - b #Subtraction\r\n",
        "np.subtract(a,b) #Subtraction\r\n",
        "b + a #Addition\r\n",
        "np.add(b,a) #Addition\r\n",
        "a / b #Division\r\n",
        "np.divide(a,b) #Division\r\n",
        "a * b #Multiplication\r\n",
        "np.multiply(a,b) #Multiplication\r\n",
        "np.exp(b) #Exponentiation\r\n",
        "np.sqrt(b) #Square root\r\n",
        "np.sin(a) #Print sines of an array\r\n",
        "np.cos(b) #Element-wise cosine\r\n",
        "np.log(a) #Element-wise natural logarithm\r\n",
        "e.dot(f) #Dot product\r\n"
      ],
      "execution_count": 16,
      "outputs": [
        {
          "output_type": "execute_result",
          "data": {
            "text/plain": [
              "array([[7., 7.],\n",
              "       [7., 7.]])"
            ]
          },
          "metadata": {
            "tags": []
          },
          "execution_count": 16
        }
      ]
    },
    {
      "cell_type": "code",
      "metadata": {
        "colab": {
          "base_uri": "https://localhost:8080/"
        },
        "id": "N2CyKARus3F2",
        "outputId": "fab2fb10-cbe3-49e0-b4ae-229a0a4f8a86"
      },
      "source": [
        "a == b #Element-wise comparison\r\n",
        "a < 2 #Element-wise comparison\r\n",
        "np.array_equal(a, b) #Array-wise comparison"
      ],
      "execution_count": 17,
      "outputs": [
        {
          "output_type": "execute_result",
          "data": {
            "text/plain": [
              "False"
            ]
          },
          "metadata": {
            "tags": []
          },
          "execution_count": 17
        }
      ]
    },
    {
      "cell_type": "code",
      "metadata": {
        "colab": {
          "base_uri": "https://localhost:8080/"
        },
        "id": "yNtqS6fotVp_",
        "outputId": "a945da73-f095-4b06-c8c2-ba33757cd474"
      },
      "source": [
        "a.sum() #Array-wise sum\r\n",
        "a.min() #Array-wise minimum value\r\n",
        "b.max(axis=0) #Maximum value of an array row\r\n",
        "b.cumsum(axis=1) #Cumulative sum of the elements\r\n",
        "a.mean() #Mean\r\n",
        "np.std(b) #Standard deviation"
      ],
      "execution_count": 20,
      "outputs": [
        {
          "output_type": "execute_result",
          "data": {
            "text/plain": [
              "1.5920810978785667"
            ]
          },
          "metadata": {
            "tags": []
          },
          "execution_count": 20
        }
      ]
    },
    {
      "cell_type": "code",
      "metadata": {
        "id": "x2qH27uAtg9e"
      },
      "source": [
        "h = a.view() #Create a view of the array with the same data\r\n",
        "np.copy(a) #Create a copy of the array\r\n",
        "h = a.copy() #Create a deep copy of the array"
      ],
      "execution_count": 21,
      "outputs": []
    },
    {
      "cell_type": "code",
      "metadata": {
        "colab": {
          "base_uri": "https://localhost:8080/"
        },
        "id": "c3c26U41t0Ey",
        "outputId": "8a87fe59-cf21-477e-bd9e-67aca56f6293"
      },
      "source": [
        "#Transposing Array\r\n",
        "i = np.transpose(b) #Permute array dimensions\r\n",
        "i.T #Permute array dimensions\r\n",
        " \r\n",
        " #Changing Array Shape\r\n",
        "b.ravel() #Flatten the array\r\n",
        "g.reshape(3,-2) #Reshape, but don’t change data\r\n",
        " \r\n",
        " #Adding/Removing Elements\r\n",
        "h.resize((2,6)) #Return a new array with shape (2,6)\r\n",
        "np.append(h,g) #Append items to an array\r\n",
        "np.insert(a, 1, 5) #Insert items in an array\r\n",
        "np.delete(a,[1]) #Delete items from an array\r\n",
        " \r\n",
        " #Combining Arraysb\r\n",
        "np.vstack((a,b)) #Stack arrays vertically (row-wise)\r\n",
        "np.r_[e,f] #Stack arrays vertically (row-wise)\r\n",
        "np.hstack((e,f)) #Stack arrays horizontally (column-wise)\r\n",
        " \r\n",
        " #Splitting Arrays\r\n",
        "np.hsplit(a,3) #Split the array horizontally at the 3rd\r\n",
        "np.vsplit(c,2) #Split the array vertically at the 2nd index"
      ],
      "execution_count": 30,
      "outputs": [
        {
          "output_type": "execute_result",
          "data": {
            "text/plain": [
              "[array([[[1.5, 2. , 3. ],\n",
              "         [4. , 5. , 6. ]]]), array([[[3., 2., 1.],\n",
              "         [4., 5., 6.]]])]"
            ]
          },
          "metadata": {
            "tags": []
          },
          "execution_count": 30
        }
      ]
    },
    {
      "cell_type": "code",
      "metadata": {
        "id": "q-vHaQQdub3P"
      },
      "source": [
        ""
      ],
      "execution_count": null,
      "outputs": []
    }
  ]
}